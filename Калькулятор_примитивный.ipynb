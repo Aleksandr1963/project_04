{
  "nbformat": 4,
  "nbformat_minor": 0,
  "metadata": {
    "colab": {
      "provenance": [],
      "authorship_tag": "ABX9TyPkScAs8gjIne0sM7g7Wg9b",
      "include_colab_link": true
    },
    "kernelspec": {
      "name": "python3",
      "display_name": "Python 3"
    },
    "language_info": {
      "name": "python"
    }
  },
  "cells": [
    {
      "cell_type": "markdown",
      "metadata": {
        "id": "view-in-github",
        "colab_type": "text"
      },
      "source": [
        "<a href=\"https://colab.research.google.com/github/Aleksandr1963/project_04/blob/main/%D0%9A%D0%B0%D0%BB%D1%8C%D0%BA%D1%83%D0%BB%D1%8F%D1%82%D0%BE%D1%80_%D0%BF%D1%80%D0%B8%D0%BC%D0%B8%D1%82%D0%B8%D0%B2%D0%BD%D1%8B%D0%B9.ipynb\" target=\"_parent\"><img src=\"https://colab.research.google.com/assets/colab-badge.svg\" alt=\"Open In Colab\"/></a>"
      ]
    },
    {
      "cell_type": "code",
      "execution_count": 2,
      "metadata": {
        "colab": {
          "base_uri": "https://localhost:8080/"
        },
        "id": "AF4Zs7vN41RW",
        "outputId": "61f1f87f-9623-43dd-9d93-8bd4c6703428"
      },
      "outputs": [
        {
          "output_type": "stream",
          "name": "stdout",
          "text": [
            "Please choose an operation:\n",
            "1. Add\n",
            "2. Subtract\n",
            "3. Multiply\n",
            "4. Divide\n",
            "Enter your choice (1/2/3/4): 1\n",
            "Enter the first number: 12\n",
            "Enter the second number: 3\n",
            "12.0 + 3.0 = 15.0\n"
          ]
        }
      ],
      "source": [
        "# A simple calculator program in Python\n",
        "\n",
        "# Define the operations\n",
        "def add(x, y):\n",
        "    return x + y\n",
        "\n",
        "def subtract(x, y):\n",
        "    return x - y\n",
        "\n",
        "def multiply(x, y):\n",
        "    return x * y\n",
        "\n",
        "def divide(x, y):\n",
        "    if y == 0:\n",
        "        return \"Error: Cannot divide by zero\"\n",
        "    else:\n",
        "        return x / y\n",
        "\n",
        "# Ask the user to choose an operation\n",
        "print(\"Please choose an operation:\")\n",
        "print(\"1. Add\")\n",
        "print(\"2. Subtract\")\n",
        "print(\"3. Multiply\")\n",
        "print(\"4. Divide\")\n",
        "\n",
        "choice = input(\"Enter your choice (1/2/3/4): \")\n",
        "\n",
        "# Ask the user to enter two numbers\n",
        "num1 = float(input(\"Enter the first number: \"))\n",
        "num2 = float(input(\"Enter the second number: \"))\n",
        "\n",
        "# Perform the calculation and print the result\n",
        "if choice == \"1\":\n",
        "    result = add(num1, num2)\n",
        "    print(f\"{num1} + {num2} = {result}\")\n",
        "elif choice == \"2\":\n",
        "    result = subtract(num1, num2)\n",
        "    print(f\"{num1} - {num2} = {result}\")\n",
        "elif choice == \"3\":\n",
        "    result = multiply(num1, num2)\n",
        "    print(f\"{num1} * {num2} = {result}\")\n",
        "elif choice == \"4\":\n",
        "    result = divide(num1, num2)\n",
        "    print(f\"{num1} / {num2} = {result}\")\n",
        "else:\n",
        "    print(\"Invalid choice\")\n"
      ]
    }
  ]
}