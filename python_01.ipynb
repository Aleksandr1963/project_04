{
  "nbformat": 4,
  "nbformat_minor": 0,
  "metadata": {
    "colab": {
      "provenance": [],
      "authorship_tag": "ABX9TyOzVJVwY5C857yOgjW8LqVq",
      "include_colab_link": true
    },
    "kernelspec": {
      "name": "python3",
      "display_name": "Python 3"
    },
    "language_info": {
      "name": "python"
    }
  },
  "cells": [
    {
      "cell_type": "markdown",
      "metadata": {
        "id": "view-in-github",
        "colab_type": "text"
      },
      "source": [
        "<a href=\"https://colab.research.google.com/github/Aleksandr1963/project_04/blob/main/python_01.ipynb\" target=\"_parent\"><img src=\"https://colab.research.google.com/assets/colab-badge.svg\" alt=\"Open In Colab\"/></a>"
      ]
    },
    {
      "cell_type": "code",
      "execution_count": 1,
      "metadata": {
        "colab": {
          "base_uri": "https://localhost:8080/"
        },
        "id": "mXCdlFdMbc8Z",
        "outputId": "d50d7219-f6a2-47f0-fb74-28d7447287b2"
      },
      "outputs": [
        {
          "output_type": "execute_result",
          "data": {
            "text/plain": [
              "4"
            ]
          },
          "metadata": {},
          "execution_count": 1
        }
      ],
      "source": [
        "2+2\n",
        "2+2\n",
        "\n"
      ]
    },
    {
      "cell_type": "markdown",
      "source": [
        "# Python. Основы.\n",
        "* **TODO** - математика pynton\n",
        "* _TODO_ - типы данных (отличия)\n",
        "* TODO - функции (встроенные)\n",
        "* TODO - методы\n",
        "* TODO - индексация\n",
        "\n",
        "\n",
        "## Типы данных.\n",
        "* int - целые числа\n",
        "* float - вещественные числа"
      ],
      "metadata": {
        "id": "QbnnHIy-d5io"
      }
    },
    {
      "cell_type": "code",
      "source": [
        "2-2\n",
        "2*2"
      ],
      "metadata": {
        "colab": {
          "base_uri": "https://localhost:8080/"
        },
        "id": "XKFEzakXeBjM",
        "outputId": "9aff75d4-47a3-4c5a-eb59-7af0235e59e8"
      },
      "execution_count": 2,
      "outputs": [
        {
          "output_type": "execute_result",
          "data": {
            "text/plain": [
              "4"
            ]
          },
          "metadata": {},
          "execution_count": 2
        }
      ]
    },
    {
      "cell_type": "code",
      "source": [
        "2/2\n"
      ],
      "metadata": {
        "colab": {
          "base_uri": "https://localhost:8080/"
        },
        "id": "0HQX-NogeH9G",
        "outputId": "7eb316dd-8d0a-4120-eed5-4c8ffe1586b6"
      },
      "execution_count": 3,
      "outputs": [
        {
          "output_type": "execute_result",
          "data": {
            "text/plain": [
              "1.0"
            ]
          },
          "metadata": {},
          "execution_count": 3
        }
      ]
    }
  ]
}